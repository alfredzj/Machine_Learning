{
 "cells": [
  {
   "cell_type": "markdown",
   "metadata": {},
   "source": [
    "### <span style=\"color:blue\"> ***Score: 100*** </span>"
   ]
  },
  {
   "cell_type": "markdown",
   "metadata": {},
   "source": [
    "#  MTH 9899 Machine Learning Assignment 2\n"
   ]
  },
  {
   "cell_type": "markdown",
   "metadata": {},
   "source": [
    "#### Problem 1\n",
    "In class, we spoke about the equation below - a description of how the variance of the average of identically distributed variables decreases as we add more predictors to an ensemble. Please derive this formula - you can ignore the case of negative correlations. $\\rho$ represents the correlation between any two predictors and B represents the number of predictors. (This is Exercise 15.1 from the ESL text).\n",
    "\n",
    "$$\n",
    "\\sigma^2(\\overline{\\hat{y}}) = \\rho \\, \\sigma^2_{\\hat{y_{i}}} + \\frac{1-\\rho}{B} \\, \\sigma^2_{\\hat{y_{i}}}\n",
    "$$"
   ]
  },
  {
   "cell_type": "markdown",
   "metadata": {},
   "source": [
    "##### <font color='blue'>Solution</font>\n",
    "Assume that $y_i \\sim \\mathcal{N}(m,\\sigma^2)$ and $cov(y_i, y_j) = \\rho \\, \\sigma^2$, thus,\n",
    "\n",
    "\\begin{align}\n",
    "var(\\overline{\\hat{y}}) &= var(\\frac{1}{B} \\sum \\hat{y_i})\\\\\n",
    "&= \\frac{1}{B^2} var(\\sum \\hat{y_i})\\\\\n",
    "&= \\frac{1}{B^2} [\\sum var(\\hat{y_i}) + \\sum \\sum cov(\\hat{y_i}, \\hat{y_j})]\\\\\n",
    "&= \\frac{1}{B^2} [B \\, \\sigma^2_{\\hat{y_{i}}} + (B^2-B) \\, \\rho \\, \\sigma^2_{\\hat{y_{i}}}] \\\\\n",
    "&= \\frac{(1-\\rho)}{B} \\, \\sigma^2_{\\hat{y_{i}}} + \\rho \\, \\sigma^2_{\\hat{y_{i}}}\n",
    "\\end{align}"
   ]
  },
  {
   "cell_type": "markdown",
   "metadata": {},
   "source": [
    "#### Problem 2\n",
    "Implement a simple regression tree. We will use point estimates in the leaves and use the CART Variance Reduction measure for a splitting criteria.\n",
    "$$\n",
    "VR(S) = var \\, S - \\sum \\frac{|S_i|}{|S|} var S_i\n",
    "$$\n",
    "\n",
    "Use the attached code as your starting point\n",
    "- For simplicity’s sake, divide each attribute up into 5 equal sized bins, and test each end point of a bin as a potential split point. Test your algorithm on a 50000 row dataset generated using the attached generate test data function. Test against different max depths and report a graph of depth vs $R^2$. Now, on the saame graph, plot $R^2$ where you are using a new dataset, generated independently of the one used to train the tree. Does it look different? Why?\n",
    "-  One way to potentially improve this and avoid overfitting would be to use cross-validation when calculating variance reduction. Modify your tree to have the constructor to take a num cv folds parameter. If this value is > 1, then calculate the variance reduction on a cross-validated dataset instead, ie for each candidate split point you are considering, you should do a CV measurement of the variance reduction. ONLY SPLIT if the CV Variance Reduction is positive. Repeat the experiments from the first part of the question and discuss any differences.\n"
   ]
  },
  {
   "cell_type": "markdown",
   "metadata": {},
   "source": [
    "##### <font color='blue'>Solution</font>\n"
   ]
  },
  {
   "cell_type": "code",
   "execution_count": 1,
   "metadata": {},
   "outputs": [
    {
     "name": "stdout",
     "output_type": "stream",
     "text": [
      "Populating the interactive namespace from numpy and matplotlib\n"
     ]
    }
   ],
   "source": [
    "import numpy as np\n",
    "import time\n",
    "%pylab inline"
   ]
  },
  {
   "cell_type": "code",
   "execution_count": 2,
   "metadata": {
    "collapsed": true
   },
   "outputs": [],
   "source": [
    "def generate_test_data(N, noise = 100):\n",
    "    x = np.random.randn(N, 5) # “standard normal” distribution.\n",
    "    y = np.where(x[:, 0] > 0, 2, 5)\n",
    "    y = y + np.where(x[:, 1] > 0, -3, 3)\n",
    "    y = y + np.where(x[:, 2] > 0, 0, 0.5)\n",
    "    y = y + np.random.randn(N)*noise\n",
    "    return x,y"
   ]
  },
  {
   "cell_type": "code",
   "execution_count": 3,
   "metadata": {
    "collapsed": true
   },
   "outputs": [],
   "source": [
    "class TreeNode:\n",
    "    def predict(x, y):\n",
    "        assert False\n",
    "\n",
    "    def depth(self):\n",
    "        assert False"
   ]
  },
  {
   "cell_type": "code",
   "execution_count": 4,
   "metadata": {
    "collapsed": true
   },
   "outputs": [],
   "source": [
    "class BranchNode(TreeNode):\n",
    "    def __init__(self, left, right, split_var_index, split_var_value):\n",
    "        self.left = left\n",
    "        self.right = right\n",
    "        self.split_var_index = split_var_index\n",
    "        self.split_var_value = split_var_value\n",
    "\n",
    "    def predict(self, x):\n",
    "        svar = x[:, self.split_var_index]\n",
    "        is_left = svar < self.split_var_value\n",
    "        leftx = x[is_left]\n",
    "        rightx = x[~is_left]\n",
    "\n",
    "        rv = np.zeros(x.shape[0])\n",
    "        rv[is_left] = self.left.predict(leftx)\n",
    "        rv[~is_left] = self.right.predict(rightx)\n",
    "\n",
    "        return rv\n",
    "\n",
    "    def depth(self):\n",
    "        return 1 + max(self.left.depth(), self.right.depth())"
   ]
  },
  {
   "cell_type": "code",
   "execution_count": 5,
   "metadata": {
    "collapsed": true
   },
   "outputs": [],
   "source": [
    "class LeafNode(TreeNode):\n",
    "    def __init__(self, mu):\n",
    "        self.mu = mu\n",
    "\n",
    "    def predict(self, x):\n",
    "        return np.repeat(self.mu, x.shape[0])\n",
    "\n",
    "    def depth(self):\n",
    "        return 1"
   ]
  },
  {
   "cell_type": "code",
   "execution_count": 6,
   "metadata": {
    "collapsed": true
   },
   "outputs": [],
   "source": [
    "class RegressionTree:\n",
    "    def __init__(self, max_depth, min_points_in_leaf):\n",
    "        self.max_depth = max_depth\n",
    "        self.min_points_in_leaf = min_points_in_leaf\n",
    "\n",
    "    def predict(self, x):\n",
    "        assert self.fitted\n",
    "        return self.root.predict(x)\n",
    "\n",
    "    def fit(self, x, y, num_folds=1):\n",
    "        self.fitted = True\n",
    "        self.root = self.fit_internal(x, y, 1, num_folds)\n",
    "\n",
    "    \n",
    "    def fit_internal(self, x, y, current_depth, num_folds):\n",
    "        assert (num_folds >= 1)\n",
    "        if num_folds > 1:\n",
    "            return self.fit_internal_cv(x,y,current_depth,num_folds)\n",
    "        else:\n",
    "            return self.fit_internal_no_cv(x,y,current_depth)\n",
    "    \n",
    "    def fit_internal_no_cv(self, x, y, current_depth):\n",
    "        num_rows, num_features = x.shape[0], x.shape[1]\n",
    "        var_orig = np.var(y)\n",
    "\n",
    "        if current_depth == self.max_depth:\n",
    "            return LeafNode(np.mean(y))\n",
    "\n",
    "        vr = 0. # variance reduction\n",
    "        split_var_index, split_var_value = None, None # features to split, ...\n",
    "        \n",
    "        # loop over all features and possible split point\n",
    "        for i in range(num_features):\n",
    "            F = x[:,i]\n",
    "            split_set = [np.percentile(F,i) for i in range(20,100,20)] # split into 5 parts\n",
    "\n",
    "            for j in range(0, 4):\n",
    "                res = (x[:,i] < split_set[j])\n",
    "                num_left = len(x[res])\n",
    "                num_right = len(x[~res])\n",
    "                \n",
    "                if min(num_left, num_right) <= self.min_points_in_leaf:\n",
    "                    continue\n",
    "                \n",
    "                vr_tmp = var_orig - (num_left*np.var(y[res]) + num_right*np.var(y[~res]))/num_rows\n",
    "                \n",
    "                if vr_tmp > vr: # no need to check if it is larger than 0\n",
    "                    vr = vr_tmp\n",
    "                    split_var_index, split_var_value = i, split_set[j]\n",
    "\n",
    "        if split_var_index is None:\n",
    "            return LeafNode(np.mean(y))\n",
    "        else:\n",
    "            split_res = (x[:,split_var_index] < split_var_value)\n",
    "            x_left, y_left = x[split_res], y[split_res]\n",
    "            x_right, y_right = x[~split_res], y[~split_res]                        \n",
    "            left_node = self.fit_internal_no_cv(x_left, y_left,current_depth+1)\n",
    "            right_node = self.fit_internal_no_cv(x_right, y_right,current_depth+1)\n",
    "            return BranchNode(left_node, right_node, split_var_index, split_var_value) \n",
    "\n",
    "        \n",
    "    def fit_internal_cv(self, x, y, current_depth, num_folds):\n",
    "        # random partition by sequence\n",
    "        x_split = np.array_split(x, num_folds)\n",
    "        y_split = np.array_split(y, num_folds)\n",
    "        \n",
    "        # compute the training data and cross validationn data in advance\n",
    "        x_cv_total, y_cv_total, x_train_total, y_train_total = [], [], [], []\n",
    "        for j in range(len(x_split)):\n",
    "            x_split_cy, y_split_cy = x_split, y_split\n",
    "            x_cv, y_cv = x_split_cy[j], y_split_cy[j]\n",
    "            x_train = np.concatenate(np.delete(x_split_cy, j, 0))\n",
    "            y_train = np.concatenate(np.delete(y_split_cy, j, 0))\n",
    "            x_cv_total.append(x_cv)\n",
    "            y_cv_total.append(y_cv)\n",
    "            x_train_total.append(x_train)\n",
    "            y_train_total.append(y_train)\n",
    "                \n",
    "        num_rows, num_features = x.shape[0], x.shape[1]\n",
    "        var_orig = np.var(y)\n",
    "\n",
    "        if current_depth == self.max_depth:\n",
    "            return LeafNode(np.mean(y))\n",
    "\n",
    "        sse_r = 0. # variance reduction\n",
    "        split_var_index, split_var_value = None, None # features to split, ...\n",
    "\n",
    "        # loop over all features and possible split point\n",
    "        for i in range(num_features):\n",
    "            F = x[:,i]\n",
    "            split_set = [np.percentile(F,i) for i in range(20,100,20)] # split into 5 parts\n",
    "            for j in range(0, 4):\n",
    "                sse_reduction = 0.\n",
    "                \n",
    "                res = (x[:,i] < split_set[j])\n",
    "                num_left = len(x[res])\n",
    "                num_right = len(x[~res])\n",
    "                \n",
    "                if min(num_left, num_right) <= self.min_points_in_leaf:\n",
    "                    continue\n",
    "       \n",
    "                for idx in range(num_folds):\n",
    "            \n",
    "                    res_train = (x_train_total[idx][:,i] < split_set[j])\n",
    "                    y_train_left_avg = y_train_total[idx][res_train].mean()\n",
    "                    y_train_right_avg = y_train_total[idx][~res_train].mean()\n",
    "\n",
    "                    #cv part\n",
    "                    res_cv = (x_cv_total[idx][:,i] < split_set[j])\n",
    "                    y_cv_left = y_cv_total[idx][res_cv]\n",
    "                    y_cv_right = y_cv_total[idx][~res_cv]\n",
    "                    \n",
    "                    num_y_cv_left, num_y_cv_right = len(y_cv_left), len(y_cv_right)\n",
    "                    num_y_cv = num_y_cv_left + num_y_cv_right\n",
    "                                        \n",
    "                    y_cv_left_sse = sum((y_cv_left-np.repeat(y_train_left_avg,len(y_cv_left))**2))\n",
    "                    y_cv_right_sse = sum((y_cv_right-np.repeat(y_train_right_avg,len(y_cv_right))**2))\n",
    "                    \n",
    "                    sse_y_cv = sum((y_cv_total[idx]-np.repeat(y_cv_total[idx].mean(),len(y_cv_total[idx]))**2))\n",
    "                    sse_reduction += sse_y_cv-(y_cv_left_sse + y_cv_right_sse)\n",
    "                   \n",
    "                if sse_reduction > sse_r:\n",
    "                    sse_r = sse_reduction\n",
    "                    split_var_index, split_var_value = i, split_set[j]\n",
    "                \n",
    "        if split_var_index is None:\n",
    "            return LeafNode(np.mean(y))\n",
    "        else:\n",
    "            split_res = (x[:,split_var_index] < split_var_value)            \n",
    "            x_left, y_left = x[split_res], y[split_res]\n",
    "            x_right, y_right = x[~split_res], y[~split_res]                        \n",
    "            left_node = self.fit_internal_cv(x_left, y_left,current_depth+1,num_folds)\n",
    "            right_node = self.fit_internal_cv(x_right, y_right,current_depth+1,num_folds)\n",
    "            return BranchNode(left_node, right_node, split_var_index, split_var_value) \n",
    "    \n",
    "    \n",
    "    def depth(self):\n",
    "        return self.root.depth()"
   ]
  },
  {
   "cell_type": "code",
   "execution_count": 7,
   "metadata": {},
   "outputs": [
    {
     "name": "stdout",
     "output_type": "stream",
     "text": [
      "The proess takes 23.15632176399231 seconds to finish\n"
     ]
    }
   ],
   "source": [
    "x_train, y_train = generate_test_data(50000,10)\n",
    "x_test, y_test = generate_test_data(50000,10)\n",
    "\n",
    "n = 10\n",
    "max_depth = np.array([2*(i+1) for i in range(n)])\n",
    "min_points_in_leaf = 100\n",
    "num_folds = 5\n",
    "r2_in_no_cv,r2_in_cv,r2_out_no_cv,r2_out_cv = [],[],[],[]\n",
    "\n",
    "start = time.time()\n",
    "\n",
    "for i in range(n):\n",
    "    RT = RegressionTree(max_depth[i], min_points_in_leaf)  \n",
    "    # no cv\n",
    "    RT.fit(x_train, y_train) \n",
    "    r2_in_no_cv.append((1 - np.sum((RT.predict(x_train) - y_train)**2) / np.sum((y_train - y_train.mean())**2)))\n",
    "    r2_out_no_cv.append((1 - np.sum((RT.predict(x_test) - y_test)**2) / np.sum((y_test - y_test.mean())**2)))\n",
    "\n",
    "    # cv\n",
    "    RT.fit(x_train, y_train, num_folds) # add num_folds\n",
    "    r2_in_cv.append((1 - np.sum((RT.predict(x_train) - y_train)**2) / np.sum((y_train - y_train.mean())**2)))\n",
    "    r2_out_cv.append((1 - np.sum((RT.predict(x_test) - y_test)**2) / np.sum((y_test - y_test.mean())**2)))\n",
    "\n",
    "elapsed = time.time() - start\n",
    "print (\"The proess takes {0} seconds to finish\".format(elapsed))"
   ]
  },
  {
   "cell_type": "code",
   "execution_count": 8,
   "metadata": {
    "scrolled": false
   },
   "outputs": [
    {
     "data": {
      "image/png": "[encoded data removed]",
      "text/plain": [
       "<matplotlib.figure.Figure at 0x7f9a97fde8d0>"
      ]
     },
     "metadata": {},
     "output_type": "display_data"
    }
   ],
   "source": [
    "fig = figure(figsize=(15,5))\n",
    "ax1 = fig.add_subplot(121)\n",
    "ax2 = fig.add_subplot(122)\n",
    "\n",
    "ax1.plot(max_depth, r2_in_no_cv, 'ro', ls='dashdot', label='in_sample')\n",
    "ax1.plot(max_depth, r2_out_no_cv, 'bo', ls='dashdot', label='out_sample')\n",
    "\n",
    "ax2.plot(max_depth, r2_in_cv, 'ro', ls='dashdot', label='in_sample')\n",
    "ax2.plot(max_depth, r2_out_cv, 'bo', ls='dashdot', label='out_sample')\n",
    "\n",
    "ax1.set_xlabel('max_depth')\n",
    "ax1.set_ylabel('R2')\n",
    "\n",
    "ax2.set_xlabel('max_depth')\n",
    "\n",
    "ax1.set_title('Regression_Tree_Without_CV')\n",
    "ax2.set_title('Regression_Tree_With_CV')\n",
    "\n",
    "ax1.legend()\n",
    "ax2.legend()\n",
    "\n",
    "tight_layout()\n",
    "savefig('r2_vs_max_depth.png')"
   ]
  },
  {
   "cell_type": "markdown",
   "metadata": {},
   "source": [
    "##### Comment_1\n",
    "\n",
    "- In the left graph, $R_{in}^2$ increases as the max_depth increases, while $R_{out}^2$ increases firstly and decreases later as the max_depth increases. \n",
    "\n",
    "- This is because as the max_depth increases the model tends to overfit, which leads to unaccurate predictions on cross validation set."
   ]
  },
  {
   "cell_type": "markdown",
   "metadata": {},
   "source": [
    "##### Comment_2\n",
    "\n",
    "- In the right graph, $R_{in}^2$ increases as the max_depth increases, while $R_{out}^2$ increases firstly and decreases later as the max_depth increases. And the reason is the same as discussed above.\n",
    "\n",
    "- Comparing the two graphs, $R_{out}^2$ from the right is larger than that from the left in general, and the inflection point of it from the right comes later than the left.\n",
    "\n",
    "- This is because when we build the regression tree with cv, we hope overfitting can be avoided to some degree. And the comparison between the two graphs actually proves the method works.\n"
   ]
  }
 ],
 "metadata": {
  "kernelspec": {
   "display_name": "Python 3",
   "language": "python",
   "name": "python3"
  },
  "language_info": {
   "codemirror_mode": {
    "name": "ipython",
    "version": 3
   },
   "file_extension": ".py",
   "mimetype": "text/x-python",
   "name": "python",
   "nbconvert_exporter": "python",
   "pygments_lexer": "ipython3",
   "version": "3.6.8"
  }
 },
 "nbformat": 4,
 "nbformat_minor": 2
}
